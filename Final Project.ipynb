{
 "cells": [
  {
   "cell_type": "markdown",
   "id": "d5f38707-dd34-47a4-a9f7-b449c266fe9b",
   "metadata": {},
   "source": [
    "# Modflow6 and Floypy"
   ]
  },
  {
   "cell_type": "markdown",
   "id": "9b627a97-a02e-4c70-a14f-c62a41e9b433",
   "metadata": {},
   "source": [
    "### Import Needed Packages\n",
    "Imported all packages needed to run entire code"
   ]
  },
  {
   "cell_type": "code",
   "execution_count": 53,
   "id": "de97816b-955f-4ef7-ad8d-46e4952940d7",
   "metadata": {},
   "outputs": [],
   "source": [
    "import os\n",
    "import flopy as fp\n",
    "import numpy as np\n",
    "import pandas as pd\n",
    "import matplotlib as mpl\n",
    "import matplotlib.pyplot as plt"
   ]
  },
  {
   "cell_type": "markdown",
   "id": "c1b44d4a-0446-4780-8eac-91862b193f4a",
   "metadata": {},
   "source": [
    "### Set Pathway \n",
    "This tells juypter notebook were to save all new created files"
   ]
  },
  {
   "cell_type": "code",
   "execution_count": 54,
   "id": "93994c5d-fc74-4976-85d8-6c7339ae7948",
   "metadata": {},
   "outputs": [
    {
     "data": {
      "text/plain": [
       "'C:\\\\Users\\\\hanna\\\\Phython Class'"
      ]
     },
     "execution_count": 54,
     "metadata": {},
     "output_type": "execute_result"
    }
   ],
   "source": [
    "modelname = 'esterobay'\n",
    "modelws = 'esterobay'\n",
    "path = os.getcwd() #path to working directory\n",
    "plt.rcParams['figure.figsize'] = (5,5) #defult figure size\n",
    "plt.rcParams[\"figure.autolayout\"] = True \n",
    "path"
   ]
  },
  {
   "cell_type": "markdown",
   "id": "a2d8c292-beb5-46b4-af19-b7e916ce30bb",
   "metadata": {},
   "source": [
    "## Model Parameters"
   ]
  },
  {
   "cell_type": "markdown",
   "id": "66b848bf-0d38-40d1-9dea-f2476fa96c81",
   "metadata": {},
   "source": [
    "Within the model pararmeters, I first set the size properties for the grid and the quality and size of the layers. Next I fill in the aquifer properties such as porosity and hydraulic conductivity as well as the head, well draw down adn the recharge rate."
   ]
  },
  {
   "cell_type": "code",
   "execution_count": 55,
   "id": "3cab628c-25e6-4986-8158-87d352ef539a",
   "metadata": {},
   "outputs": [],
   "source": [
    "#grid properties\n",
    "Lx = 100 #21120 ft\n",
    "Ly = 100 #10560 ft\n",
    "ncol = 100\n",
    "nrow = 100\n",
    "delc = Lx/ncol\n",
    "delr = Ly/nrow\n",
    "\n",
    "#layers (well heights from Lee County Utilities)\n",
    "nlay = 1\n",
    "top = 20 #top of layer in ft\n",
    "botm = 0 #bottom of layer in ft\n",
    "\n",
    "#aquifer properties (numbers calculated from data from Uni of Iowa\n",
    "k_hor = [0.00361] #horizontal hydraulic conductivity, ft/d\n",
    "k_ver = [0.00361] #vertical hydraulic conductivity, ft/d\n",
    "porosity = 0.106 #porosity in inches\n",
    "\n",
    "#Boundary Conditions (hydraulic head found from USGS)\n",
    "headriver = 3.15 #ft\n",
    "Qwell= 0.1 #monitor well, no draw down\n",
    "recharge = 0.126 #ft/d"
   ]
  },
  {
   "cell_type": "markdown",
   "id": "a227d677-9fa9-400b-b8a1-b53fb5cb7351",
   "metadata": {},
   "source": [
    "## Create Simulation\n",
    "We create the simulation here and are telling the program where it can find the executable file for ModFlow."
   ]
  },
  {
   "cell_type": "code",
   "execution_count": 56,
   "id": "a9c13267-2fdd-4bb8-823b-4ee24ac684ca",
   "metadata": {},
   "outputs": [],
   "source": [
    "# Create Groundwater Simulation\n",
    "sim = fp.mf6.MFSimulation(sim_name=modelname,\n",
    "                          version='mf6',\n",
    "                          exe_name= 'mf6',\n",
    "                          sim_ws=modelws)"
   ]
  },
  {
   "cell_type": "markdown",
   "id": "32b7b3b9-d2f4-49d9-a1e0-fcc4055cbdb6",
   "metadata": {},
   "source": [
    "### Time Discretization (Tdis) \n",
    "This defines the number of steps and the period length for the simulation."
   ]
  },
  {
   "cell_type": "code",
   "execution_count": 57,
   "id": "5d33c40b-e92a-4816-8116-8515e7b17712",
   "metadata": {},
   "outputs": [],
   "source": [
    "tdis_rc = [(1.0,1,1.0)] #period length, number of steps, timestamp\n",
    "tdis=fp.mf6.ModflowTdis(sim,time_units='Days',perioddata=tdis_rc,)"
   ]
  },
  {
   "cell_type": "markdown",
   "id": "70ebda7a-8ed3-465e-b0f2-4305777b251f",
   "metadata": {},
   "source": [
    "### Iterative Model Solutions (lms)\n",
    "This sets up the complexity of the iterative methods used for solving a model."
   ]
  },
  {
   "cell_type": "code",
   "execution_count": 58,
   "id": "75180642-36e0-4a87-a488-d76e9967fe41",
   "metadata": {},
   "outputs": [],
   "source": [
    "ims = fp.mf6.ModflowIms(sim, complexity='SIMPLE',)"
   ]
  },
  {
   "cell_type": "markdown",
   "id": "80d81405-6af5-4533-af93-b08c2fd252fd",
   "metadata": {},
   "source": [
    "### Groundwater Flow Model (gwf) - We are now labeling the simulation as a groundwater flow model."
   ]
  },
  {
   "cell_type": "code",
   "execution_count": 59,
   "id": "0eee7735-1a1f-410e-9f9f-6bec55de4c5e",
   "metadata": {},
   "outputs": [],
   "source": [
    "gwf = fp.mf6.ModflowGwf(sim, modelname, save_flows=True) "
   ]
  },
  {
   "cell_type": "markdown",
   "id": "2d0d0975-c7ea-45d3-98f3-b63a11595f79",
   "metadata": {},
   "source": [
    "## Add Packages to gwf"
   ]
  },
  {
   "cell_type": "markdown",
   "id": "0089eec1-16b4-4702-8728-c2ae788a6b3d",
   "metadata": {},
   "source": [
    "### Discretization Package (gwfdis) \n",
    "This package defines the grid, cell properties and boundary conditions"
   ]
  },
  {
   "cell_type": "code",
   "execution_count": 60,
   "id": "d5c86937-2480-449f-ae37-d990c2a20d65",
   "metadata": {},
   "outputs": [],
   "source": [
    "dis = fp.mf6.ModflowGwfdis(gwf,length_units='FEET',nlay=nlay,nrow=nrow,ncol=ncol,delr=delr,delc=delc,top=top,botm=botm,)"
   ]
  },
  {
   "cell_type": "markdown",
   "id": "409b8791-2e4c-4f37-bf90-295b74e2699b",
   "metadata": {},
   "source": [
    "### Node Property Flow Package (gwfnpf)\n",
    "We next need to define the aquifers as confined (0) or unconfined (1)."
   ]
  },
  {
   "cell_type": "code",
   "execution_count": 61,
   "id": "abf34c45-998c-4403-9aaa-ff124bf3f973",
   "metadata": {},
   "outputs": [],
   "source": [
    "pf = fp.mf6.ModflowGwfnpf(gwf,save_specific_discharge=True, icelltype=[1],k=k_hor,k33=k_ver,)"
   ]
  },
  {
   "cell_type": "markdown",
   "id": "494186d7-9145-42fc-84d8-9f6ba179f45f",
   "metadata": {},
   "source": [
    "### Initial Conditions (Gwfic) \n",
    "We are defining the initial river head."
   ]
  },
  {
   "cell_type": "code",
   "execution_count": 62,
   "id": "caca2472-07bd-4ba0-867b-9b6e379929ff",
   "metadata": {},
   "outputs": [],
   "source": [
    "ic = fp.mf6.ModflowGwfic(gwf,strt=headriver)"
   ]
  },
  {
   "cell_type": "markdown",
   "id": "7186ffbe-b90a-42b0-9f4a-13e79055c8e6",
   "metadata": {},
   "source": [
    "### Specified Head Package (chd) \n",
    "We are telling the simulation where the river is located."
   ]
  },
  {
   "cell_type": "code",
   "execution_count": 81,
   "id": "cec0c2b9-13c5-45e0-b47f-46a854642d0d",
   "metadata": {},
   "outputs": [],
   "source": [
    "chd_spd = []\n",
    "for r in range(nrow):\n",
    "    chd_spd.append([(0,r,ncol -50),headriver]) #[(layer,row,\n",
    "chd = fp.mf6.ModflowGwfchd(gwf,stress_period_data=chd_spd,)"
   ]
  },
  {
   "cell_type": "markdown",
   "id": "0b0c2ce9-312e-4142-bd21-675502f8a483",
   "metadata": {},
   "source": [
    "### Recharge Package (gwfrcha) \n",
    "We are now inputing the recharge rate. "
   ]
  },
  {
   "cell_type": "code",
   "execution_count": 64,
   "id": "6991bd30-863b-498d-8173-a54e9b0d5e11",
   "metadata": {},
   "outputs": [],
   "source": [
    "rch = fp.mf6.ModflowGwfrcha(gwf,recharge=recharge,pname='rch')"
   ]
  },
  {
   "cell_type": "markdown",
   "id": "3f28a89b-9644-4b4e-b634-2e2e65bf12b2",
   "metadata": {},
   "source": [
    "### Well Package (gwfwel)\n",
    "In this step I am telling the simulation where the wells are located on the grid. "
   ]
  },
  {
   "cell_type": "code",
   "execution_count": 65,
   "id": "91480b98-4235-4ef4-9fff-d97f47f7ddb3",
   "metadata": {},
   "outputs": [],
   "source": [
    "well_row_col = [[45,25],[28,58],[80,35],[78,60]] #row and column of well\n",
    "wel_spd = []\n",
    "for rc in well_row_col:\n",
    "    r = rc[0]\n",
    "    c = rc[1]\n",
    "    wel_spd.append([(0,r,c),Qwell])\n",
    "\n",
    "wel = fp.mf6.ModflowGwfwel(gwf,stress_period_data=wel_spd,)"
   ]
  },
  {
   "cell_type": "markdown",
   "id": "b92e2b7b-51a5-4fda-8269-d2aa1c37d51f",
   "metadata": {},
   "source": [
    "### Output Control (gwfoc) \n",
    "This is limiting the output to the river based on the parameters that were set above."
   ]
  },
  {
   "cell_type": "code",
   "execution_count": 66,
   "id": "65322dc3-c8b2-40f7-980c-0b9382b7d707",
   "metadata": {},
   "outputs": [],
   "source": [
    "oc = fp.mf6.ModflowGwfoc(gwf,budget_filerecord=f\"{modelname}.cbc\",head_filerecord=f\"{modelname}.hds\", saverecord=[(\"HEAD\",\"ALL\"),(\"BUDGET\",\"ALL\")])"
   ]
  },
  {
   "cell_type": "markdown",
   "id": "c04280a7-9868-4e39-b934-6f1238044e50",
   "metadata": {},
   "source": [
    "## Check Input"
   ]
  },
  {
   "cell_type": "markdown",
   "id": "7b56d015-f33e-406c-8345-11390ee2f745",
   "metadata": {},
   "source": [
    "### Solve Models (Top View and Cross Section View) \n",
    "In this step we are ploting the aerial view of the grid, showing the 4 wells and the river, we are also creating the cross sectional views of the wells compared to the river. "
   ]
  },
  {
   "cell_type": "code",
   "execution_count": 67,
   "id": "c23ae089-a148-4999-a000-9fc97a296f87",
   "metadata": {
    "scrolled": true
   },
   "outputs": [
    {
     "data": {
      "text/plain": [
       "<matplotlib.collections.LineCollection at 0x237877d9990>"
      ]
     },
     "execution_count": 67,
     "metadata": {},
     "output_type": "execute_result"
    },
    {
     "data": {
      "image/png": "[encoded data removed]",
      "text/plain": [
       "<Figure size 500x500 with 1 Axes>"
      ]
     },
     "metadata": {},
     "output_type": "display_data"
    }
   ],
   "source": [
    "pmv = fp.plot.PlotMapView(model=gwf)\n",
    "pmv.plot_bc('CHD', color='b')\n",
    "for rc in well_row_col:\n",
    "    plt.plot(rc[1], rc[0], 'ro') \n",
    "pmv.plot_grid(colors='silver',lw=1)"
   ]
  },
  {
   "cell_type": "code",
   "execution_count": 68,
   "id": "7f538715-3780-4075-bb13-edf2c8bd7e3e",
   "metadata": {
    "scrolled": true
   },
   "outputs": [
    {
     "data": {
      "image/png": "[encoded data removed]",
      "text/plain": [
       "<Figure size 500x300 with 1 Axes>"
      ]
     },
     "metadata": {},
     "output_type": "display_data"
    }
   ],
   "source": [
    "#Cross Section View\n",
    "plt.figure(figsize=(5,3))\n",
    "pxs = fp.plot.PlotCrossSection(model=gwf,line={\"Row\": 78})\n",
    "pxs.plot_bc('CHD')\n",
    "pxs.plot_bc('WEL')\n",
    "pxs.plot_grid(colors='silver',lw=1);"
   ]
  },
  {
   "cell_type": "code",
   "execution_count": 69,
   "id": "e99e4066-7146-487b-935f-0eaf84fd8665",
   "metadata": {
    "scrolled": true
   },
   "outputs": [
    {
     "data": {
      "image/png": "[encoded data removed]",
      "text/plain": [
       "<Figure size 500x300 with 1 Axes>"
      ]
     },
     "metadata": {},
     "output_type": "display_data"
    }
   ],
   "source": [
    "#Cross Section View\n",
    "plt.figure(figsize=(5,3))\n",
    "pxs = fp.plot.PlotCrossSection(model=gwf,line={\"Row\": 45})\n",
    "pxs.plot_bc('CHD')\n",
    "pxs.plot_bc('WEL')\n",
    "pxs.plot_grid(colors='silver',lw=1);"
   ]
  },
  {
   "cell_type": "markdown",
   "id": "5a595009-001f-4437-94ea-ab1c56b61a8f",
   "metadata": {},
   "source": [
    "### Run Simulation \n",
    "Once all of the parameters are correctly defined we run the simulation."
   ]
  },
  {
   "cell_type": "code",
   "execution_count": 70,
   "id": "648ac92c-b83d-4ded-af1f-d1b2f054f0e4",
   "metadata": {},
   "outputs": [
    {
     "name": "stdout",
     "output_type": "stream",
     "text": [
      "writing simulation...\n",
      "  writing simulation name file...\n",
      "  writing simulation tdis package...\n",
      "  writing solution package ims_-1...\n",
      "  writing model esterobay...\n",
      "    writing model name file...\n",
      "    writing package dis...\n",
      "    writing package npf...\n",
      "    writing package ic...\n",
      "    writing package chd_0...\n",
      "INFORMATION: maxbound in ('gwf6', 'chd', 'dimensions') changed to 100 based on size of stress_period_data\n",
      "    writing package rch...\n",
      "    writing package wel_0...\n",
      "INFORMATION: maxbound in ('gwf6', 'wel', 'dimensions') changed to 4 based on size of stress_period_data\n",
      "    writing package oc...\n",
      "FloPy is using the following executable to run the model: ..\\mf6.exe\n",
      "                                   MODFLOW 6\n",
      "                U.S. GEOLOGICAL SURVEY MODULAR HYDROLOGIC MODEL\n",
      "                            VERSION 6.4.4 02/13/2024\n",
      "\n",
      "   MODFLOW 6 compiled Feb 13 2024 15:40:13 with Intel(R) Fortran Intel(R) 64\n",
      "   Compiler Classic for applications running on Intel(R) 64, Version 2021.7.0\n",
      "                             Build 20220726_000000\n",
      "\n",
      "This software has been approved for release by the U.S. Geological \n",
      "Survey (USGS). Although the software has been subjected to rigorous \n",
      "review, the USGS reserves the right to update the software as needed \n",
      "pursuant to further analysis and review. No warranty, expressed or \n",
      "implied, is made by the USGS or the U.S. Government as to the \n",
      "functionality of the software and related material nor shall the \n",
      "fact of release constitute any such warranty. Furthermore, the \n",
      "software is released on condition that neither the USGS nor the U.S. \n",
      "Government shall be held liable for any damages resulting from its \n",
      "authorized or unauthorized use. Also refer to the USGS Water \n",
      "Resources Software User Rights Notice for complete use, copyright, \n",
      "and distribution information.\n",
      "\n",
      " \n",
      " Run start date and time (yyyy/mm/dd hh:mm:ss): 2024/05/02 11:20:33\n",
      " \n",
      " Writing simulation list file: mfsim.lst\n",
      " Using Simulation name file: mfsim.nam\n",
      " \n",
      "    Solving:  Stress period:     1    Time step:     1\n",
      " \n",
      " Run end date and time (yyyy/mm/dd hh:mm:ss): 2024/05/02 11:20:33\n",
      " Elapsed run time:  0.209 Seconds\n",
      " \n",
      " Normal termination of simulation.\n"
     ]
    }
   ],
   "source": [
    "#Run Simulation\n",
    "#mf6_exe_path = 'mf6.exe'\n",
    "sim.write_simulation()\n",
    "sim.run_simulation();"
   ]
  },
  {
   "cell_type": "markdown",
   "id": "971e310e-756f-4759-9c81-628e7fc55fc6",
   "metadata": {},
   "source": [
    "## Read and Visualize Results"
   ]
  },
  {
   "cell_type": "markdown",
   "id": "9c41e418-a52f-45cb-b907-893c59c09b7d",
   "metadata": {},
   "source": [
    "Read Heads - We are reading the minimum and maximum head from the finished simulation."
   ]
  },
  {
   "cell_type": "code",
   "execution_count": 74,
   "id": "7fd16f9e-9654-4e82-a341-4c36399126ca",
   "metadata": {},
   "outputs": [
    {
     "name": "stdout",
     "output_type": "stream",
     "text": [
      "minimum head in model:  3.15\n",
      "maximum head in model:  2462.317218368039\n"
     ]
    }
   ],
   "source": [
    "fname=os.path.join(modelws, f'{modelname}.hds')\n",
    "hdobj = fp.utils.HeadFile(fname)\n",
    "head = hdobj.get_data(mflay=0)\n",
    "print('minimum head in model: ', head.min())\n",
    "print('maximum head in model: ', head.max())"
   ]
  },
  {
   "cell_type": "markdown",
   "id": "b1b47335-e968-4938-8dae-3f5f9bd2ca0c",
   "metadata": {},
   "source": [
    "### Contour Plot \n",
    "We are ploting the simulation in a contour plot."
   ]
  },
  {
   "cell_type": "code",
   "execution_count": 75,
   "id": "dfc4a1ab-944c-4d69-9d3c-a483d01f9359",
   "metadata": {},
   "outputs": [
    {
     "ename": "AttributeError",
     "evalue": "module 'matplotlib.pyplot' has no attribute 'clabels'",
     "output_type": "error",
     "traceback": [
      "\u001b[1;31m---------------------------------------------------------------------------\u001b[0m",
      "\u001b[1;31mAttributeError\u001b[0m                            Traceback (most recent call last)",
      "Cell \u001b[1;32mIn[75], line 6\u001b[0m\n\u001b[0;32m      4\u001b[0m plt\u001b[38;5;241m.\u001b[39mcolorbar(qm,shrink\u001b[38;5;241m=\u001b[39m\u001b[38;5;241m0.7\u001b[39m,label\u001b[38;5;241m=\u001b[39m\u001b[38;5;124m'\u001b[39m\u001b[38;5;124mhead (ft)\u001b[39m\u001b[38;5;124m'\u001b[39m)\n\u001b[0;32m      5\u001b[0m cs \u001b[38;5;241m=\u001b[39m pmv\u001b[38;5;241m.\u001b[39mcontour_array(head,levels\u001b[38;5;241m=\u001b[39m\u001b[38;5;28mrange\u001b[39m(\u001b[38;5;241m0\u001b[39m,\u001b[38;5;241m25\u001b[39m),linewidths\u001b[38;5;241m=\u001b[39m\u001b[38;5;241m1\u001b[39m,colors\u001b[38;5;241m=\u001b[39m\u001b[38;5;124m'\u001b[39m\u001b[38;5;124mb\u001b[39m\u001b[38;5;124m'\u001b[39m)\n\u001b[1;32m----> 6\u001b[0m plt\u001b[38;5;241m.\u001b[39mclabels(cs, fmt\u001b[38;5;241m=\u001b[39m\u001b[38;5;124m'\u001b[39m\u001b[38;5;132;01m%1.0f\u001b[39;00m\u001b[38;5;124m'\u001b[39m)\n\u001b[0;32m      7\u001b[0m plt\u001b[38;5;241m.\u001b[39mtitle(\u001b[38;5;124m'\u001b[39m\u001b[38;5;124mheads in layer 1\u001b[39m\u001b[38;5;124m'\u001b[39m)\n",
      "\u001b[1;31mAttributeError\u001b[0m: module 'matplotlib.pyplot' has no attribute 'clabels'"
     ]
    },
    {
     "data": {
      "image/png": "[encoded data removed]",
      "text/plain": [
       "<Figure size 500x500 with 2 Axes>"
      ]
     },
     "metadata": {},
     "output_type": "display_data"
    }
   ],
   "source": [
    "#Contour Plot\n",
    "pmv=fp.plot.PlotMapView(model=gwf)\n",
    "qm=pmv.plot_array(head)\n",
    "plt.colorbar(qm,shrink=0.7,label='head (ft)')\n",
    "cs = pmv.contour_array(head,levels=range(0,25),linewidths=1,colors='b')\n",
    "plt.clabels(cs, fmt='%1.0f')\n",
    "plt.title('heads in layer 1')"
   ]
  },
  {
   "cell_type": "markdown",
   "id": "e50c1d85-36eb-4c7a-8c83-4466345249f8",
   "metadata": {},
   "source": [
    "### Save Image"
   ]
  },
  {
   "cell_type": "code",
   "execution_count": 76,
   "id": "6d3d911d-0a48-4b20-96cc-81b389f87415",
   "metadata": {},
   "outputs": [
    {
     "data": {
      "text/plain": [
       "<Figure size 500x500 with 0 Axes>"
      ]
     },
     "metadata": {},
     "output_type": "display_data"
    }
   ],
   "source": [
    "plt.savefig('contour.png')"
   ]
  },
  {
   "cell_type": "markdown",
   "id": "a480b18f-9f0a-456b-8501-88a05fb4feeb",
   "metadata": {},
   "source": [
    "## Water Balance \n",
    "We are taking the values from the simulation to calculate the Input and Output."
   ]
  },
  {
   "cell_type": "code",
   "execution_count": 93,
   "id": "d4e63c50-876b-4cf4-8e0c-1d571c5536b3",
   "metadata": {},
   "outputs": [
    {
     "name": "stdout",
     "output_type": "stream",
     "text": [
      "In:1247.4 m^3/d\n",
      "Out:-1247.4 m^3/d\n"
     ]
    }
   ],
   "source": [
    "fname=os.path.join(modelws, f\"{modelname}.cbc\")\n",
    "cbb = fp.utils.CellBudgetFile(fname)\n",
    "\n",
    "Qwell=cbb.get_data(text='WEL')[0]\n",
    "Qrch=cbb.get_data(text='RCH')[0]\n",
    "Qchd=cbb.get_data(text='CHD')[0]\n",
    "Vin=Qrch['q'].sum()\n",
    "Vout=Qwell['q'].sum()+Qchd['q'].sum()\n",
    "print(f'In:{Vin:.1f} m^3/d')\n",
    "print(f'Out:{Vout:.1f} m^3/d')"
   ]
  }
 ],
 "metadata": {
  "kernelspec": {
   "display_name": "Python 3 (ipykernel)",
   "language": "python",
   "name": "python3"
  },
  "language_info": {
   "codemirror_mode": {
    "name": "ipython",
    "version": 3
   },
   "file_extension": ".py",
   "mimetype": "text/x-python",
   "name": "python",
   "nbconvert_exporter": "python",
   "pygments_lexer": "ipython3",
   "version": "3.11.5"
  }
 },
 "nbformat": 4,
 "nbformat_minor": 5
}
